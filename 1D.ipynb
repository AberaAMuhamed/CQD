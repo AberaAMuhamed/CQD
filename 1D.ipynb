{
 "cells": [
  {
   "cell_type": "code",
   "execution_count": null,
   "metadata": {},
   "outputs": [],
   "source": [
    "import scipy.linalg as LA\n",
    "from matplotlib import animation\n",
    "from IPython.display import HTML\n",
    "import numpy as np\n",
    "import matplotlib.pyplot as plt\n",
    "\n",
    "%matplotlib inline"
   ]
  },
  {
   "cell_type": "code",
   "execution_count": null,
   "metadata": {},
   "outputs": [],
   "source": [
    "def H1diag(t):\n",
    "    k = 2*np.pi*np.fft.fftfreq(npoints,d=dx)\n",
    "    Es = k*k/2\n",
    "    return Es\n",
    "\n",
    "def H2diag(t,psi):\n",
    "    return 1/2*np.conjugate(psi)*psi"
   ]
  },
  {
   "cell_type": "code",
   "execution_count": null,
   "metadata": {},
   "outputs": [],
   "source": [
    "def TimeStap(psi,t):\n",
    "    psi  = np.exp(-1j*(dt/2)*H2diag(t,psi))*psi\n",
    "    t   += dt/2\n",
    "    psi_ = np.fft.fft(psi)\n",
    "    psi_ = np.exp(-1j*dt*H1diag(t))*psi_\n",
    "    t   += dt/2\n",
    "    psi  = np.fft.ifft(psi_)\n",
    "    psi  = np.exp(-1j*(dt/2)*H2diag(t,psi))*psi\n",
    "    return psi"
   ]
  },
  {
   "cell_type": "code",
   "execution_count": null,
   "metadata": {},
   "outputs": [],
   "source": [
    "def make_grid(npoints,L):\n",
    "    dx=L/npoints\n",
    "    return np.arange(-L/2,L/2,dx,complex)\n",
    "\n",
    "def grey_soliton(grid,nu=0.5,z0=0):\n",
    "    gamma=1/np.sqrt(1-nu**2)\n",
    "    return 1j*nu+1/gamma*np.tanh((grid-z0)/(np.sqrt(2)*gamma))\n",
    "\n",
    "def dark_soliton(grid,z0=0):\n",
    "    return grey_soliton(grid,nu=0,z0=z0)"
   ]
  },
  {
   "cell_type": "code",
   "execution_count": null,
   "metadata": {},
   "outputs": [],
   "source": [
    "L       =  40\n",
    "npoints = 500\n",
    "dx      = L/npoints\n",
    "dt      =   0.025\n",
    "tsteps  = 3000"
   ]
  },
  {
   "cell_type": "code",
   "execution_count": null,
   "metadata": {},
   "outputs": [],
   "source": [
    "grid  = make_grid(npoints,L)\n",
    "psi0  = grey_soliton(grid, 0.5,-10)\n",
    "psi0 *= grey_soliton(grid,-0.5, 10)"
   ]
  },
  {
   "cell_type": "code",
   "execution_count": null,
   "metadata": {},
   "outputs": [],
   "source": [
    "def animateTimeEvolution(xrange=[-L/2,L/2],yrange=[0,1.1]):\n",
    "    fig, ax = plt.subplots()\n",
    "    # add more axis specifications here, e.g. axis limits\n",
    "    line, = ax.plot(xrange,yrange)\n",
    "    global psi_t\n",
    "    psi_t = psi0\n",
    "\n",
    "    def animate(t):\n",
    "        # assign current wave function to y at time t, x is the vector of grid points (to be defined!)\n",
    "        #y = TimeEvolution(psi0, t)\n",
    "        global psi_t\n",
    "        y = psi_t\n",
    "        psi_t = TimeStap(psi_t,t)\n",
    "        line.set_data((grid).real, (np.conjugate(y)*y).real)\n",
    "        plt.close()\n",
    "        return (line,)\n",
    "\n",
    "    anim = animation.FuncAnimation(fig, animate,\n",
    "                                   frames=np.arange(0,tsteps*dt,dt), # t-values\n",
    "                                   interval=50, # wait time before displaying new frame in ms\n",
    "                                   blit=True)\n",
    "\n",
    "    return anim.to_jshtml()"
   ]
  },
  {
   "cell_type": "code",
   "execution_count": null,
   "metadata": {},
   "outputs": [],
   "source": [
    "HTML(animateTimeEvolution())"
   ]
  },
  {
   "cell_type": "code",
   "execution_count": null,
   "metadata": {},
   "outputs": [],
   "source": [
    "plt.plot(np.real(grid), np.real(psi0))\n",
    "plt.plot(np.real(grid), np.imag(psi0))"
   ]
  },
  {
   "cell_type": "code",
   "execution_count": null,
   "metadata": {},
   "outputs": [],
   "source": [
    "grid  = make_grid(npoints,L)\n",
    "psi0  = grey_soliton(grid,  0.3,  -10)\n",
    "psi0 *= grey_soliton(grid, -0.05,   -2)\n",
    "psi0 *= grey_soliton(grid,  0.967746031217134,  6)"
   ]
  },
  {
   "cell_type": "code",
   "execution_count": null,
   "metadata": {},
   "outputs": [],
   "source": [
    "HTML(animateTimeEvolution())"
   ]
  },
  {
   "cell_type": "code",
   "execution_count": null,
   "metadata": {},
   "outputs": [],
   "source": [
    "def TimeEvolution(psi0):\n",
    "    all_psis = np.zeros((tsteps+1,npoints))\n",
    "    t = 0\n",
    "    psi = np.exp(-1j*(dt/2)*H2diag(t,psi0))*psi0\n",
    "    t += dt/2\n",
    "    all_psis[0] = np.real(np.conjugate(psi)*psi)\n",
    "    for i in range(tsteps):\n",
    "        psi_ = np.fft.fft(psi)\n",
    "        psi_ = np.exp(-1j*dt*H1diag(t))*psi_\n",
    "        t += dt/2\n",
    "        psi  = np.fft.ifft(psi_)\n",
    "        psi  = np.exp(-1j*dt*H2diag(t,psi))*psi\n",
    "        t += dt/2\n",
    "        all_psis[i+1] = np.real(np.conjugate(psi)*psi)\n",
    "    return all_psis"
   ]
  },
  {
   "cell_type": "code",
   "execution_count": null,
   "metadata": {},
   "outputs": [],
   "source": [
    "all_psis = TimeEvolution(psi0)\n",
    "\n",
    "X, Y = np.meshgrid(np.real(grid), np.linspace(dt/2,(tsteps+1/2)*dt,tsteps+1))\n",
    "plt.contourf(X, Y, all_psis, levels=np.linspace(0,1.1,20))\n",
    "plt.xlabel('$x$ $[\\epsilon]$')\n",
    "plt.ylabel('t')\n",
    "plt.colorbar()\n",
    "plt.show()"
   ]
  }
 ],
 "metadata": {
  "kernelspec": {
   "display_name": "Python 3",
   "language": "python",
   "name": "python3"
  },
  "language_info": {
   "codemirror_mode": {
    "name": "ipython",
    "version": 3
   },
   "file_extension": ".py",
   "mimetype": "text/x-python",
   "name": "python",
   "nbconvert_exporter": "python",
   "pygments_lexer": "ipython3",
   "version": "3.8.1"
  }
 },
 "nbformat": 4,
 "nbformat_minor": 4
}
