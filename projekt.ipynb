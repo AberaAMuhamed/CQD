{
 "cells": [
  {
   "cell_type": "code",
   "execution_count": null,
   "metadata": {},
   "outputs": [],
   "source": [
    "\n",
    "# load standard libraries\n",
    "\n",
    "import numpy as np   # standard numerics library\n",
    "\n",
    "import matplotlib.pyplot as plt \n",
    "\n",
    "from matplotlib import animation# for making plots\n",
    "\n",
    "from IPython.display import HTML\n",
    "\n",
    "import scipy.fftpack as ft\n",
    "\n",
    "import cmath\n",
    "\n",
    "%matplotlib inline\n",
    "\n",
    "def sech(x):\n",
    "    return 2/(np.exp(x)+np.exp(-x))\n"
   ]
  },
  {
   "cell_type": "code",
   "execution_count": null,
   "metadata": {},
   "outputs": [],
   "source": [
    "#define grid (1d)\n",
    "npoints=5\n",
    "L=10\n",
    "def grid(npoints,L):\n",
    "    dx=L/npoints\n",
    "    return np.arange(-L/2,L/2,dx)\n",
    "print(grid(npoints,L))"
   ]
  },
  {
   "cell_type": "code",
   "execution_count": null,
   "metadata": {},
   "outputs": [],
   "source": [
    "#define possible starting condition\n",
    "def bright_soliton(grid,k,nu):\n",
    "    return nu*sech(nu*grid)*np.exp(1j*k*grid)\n",
    "\n",
    "def grey_soliton(grid,t=0,n=1,nu=0.5,mu=1,psi=1,cs=1):\n",
    "    gamma=1/np.sqrt(1-nu**2)\n",
    "    return n**0.5*(1j*nu+1/gamma*np.tanh((grid-nu*cs*t)/(np.sqrt(2)*gamma*psi)))*np.exp(1j*mu*t)\n",
    "def dark_soliton(grid,t=0,n=1,mu=1,psi=1,cs=1):\n",
    "    return grey_soliton(grid,t=0,n=1,nu=0,mu=1,psi=1,cs=1)"
   ]
  },
  {
   "cell_type": "markdown",
   "execution_count": null,
   "metadata": {},
   "outputs": [],
   "source": [
    "The governing Hamiltonian for a 1D Bose Gase:\n",
    "$H=\\frac{\\partial^2}{2\\partial x^2}+g\\rho+V(x)$"
   ]
  },
  {
   "cell_type": "code",
   "execution_count": null,
   "metadata": {},
   "outputs": [],
   "source": [
    "#define HI and HII\n",
    "#HI interaction term\n",
    "def TI(phi,dt,g=1):\n",
    "    I=g*np.sqrt(np.conjugate(phi)*phi)\n",
    "    return np.diag(np.exp(-1j*dt*I))\n",
    "#plt.plot(TI(bright_soliton(grid,1,1),1))\n",
    "#HII kinetik term in momentum space\n",
    "def TII(grid,dt):\n",
    "    npoints=len(grid)\n",
    "    L=grid[-1]-grid[0]\n",
    "    k1=np.arange(npoints/2)\n",
    "    k2=np.arange(-npoints/2,0)\n",
    "    k=np.append(k1,k2)\n",
    "    p=k*2*np.pi/L\n",
    "    return np.diag(np.exp(-1j*dt*p**2/2))\n",
    "print(TI(bright_soliton(grid(2,L),1,1),1))\n",
    "print(TII(grid(2,L),1))"
   ]
  },
  {
   "cell_type": "code",
   "execution_count": null,
   "metadata": {},
   "outputs": [],
   "source": [
    "\n",
    "\n",
    "#define timestep\n",
    "def stepper(f,dt,grid,**kwargs):\n",
    "    f=f(grid,**kwargs)\n",
    "    #f=TI(f,dt)@f\n",
    "    fk=np.fft.fft(f)\n",
    "    fkdt=TII(grid,dt)@fk\n",
    "    fdt=np.fft.ifft(fkdt)\n",
    "    return fdt\n",
    "    \n",
    "'''def time_evo(f: callable,grid,tsteps,dt,**kwargs):\n",
    "    f=f(grid,**kwargs)\n",
    "    M=np.array([f])\n",
    "    for j in range(tsteps):\n",
    "        M=np.vstack((M,np.fft.ifft(TII(grid,dt)@np.fft.fft(TI(M[:][j],dt)@(M[:][j])))))\n",
    "    return grid,M   '''\n",
    "    \n",
    "z=grid(104,10)\n",
    "darkdt=stepper(dark_soliton,1,z,t=3)\n",
    "#iterate over timestep\n",
    "\n",
    "#plot\n",
    "#bright_soliton(grid,1,1)\n",
    "dark_soliton(z)\n",
    "plt.plot(np.abs(dark_soliton(z,t=3)))\n",
    "plt.plot(np.abs(darkdt))\n",
    "plt.plot(dark_soliton(z,t=3))\n",
    "plt.plot(darkdt)"
   ]
  },
  {
   "cell_type": "code",
   "execution_count": null,
   "metadata": {},
   "outputs": [],
   "source": [
    "z=grid(104,10)\n",
    "dt=0.001\n",
    "def sin(x):\n",
    "    return np.exp(1j*x)\n",
    "k=np.fft.fftfreq(104,10/104)\n",
    "sindt=stepper(sin,dt,z)\n",
    "\n",
    "fk=np.fft.fft(sin(z))\n",
    "fkdt=TII(z,dt)@fk\n",
    "fdt=np.fft.ifft(fkdt)\n",
    "#TII=TII(z,dt)\n",
    "fig, ax=plt.subplots(2,3,figsize=(10,10))\n",
    "ax[0][0].plot(np.abs(sin(z)))\n",
    "ax[0][1].plot(np.abs(sindt))\n",
    "ax[1][0].plot(sin(z))\n",
    "#ax[1][2].plot(fk)\n",
    "ax[0][2].plot(np.abs(fkdt))\n",
    "ax[1][1].plot(sindt)\n",
    "ax[1][2].plot(k)"
   ]
  },
  {
   "cell_type": "code",
   "execution_count": null,
   "metadata": {},
   "outputs": [],
   "source": [
    "#iterate over timestep\n",
    "def time_evolution(phi,grid,T,tsteps,kwargs):\n",
    "    dt=T/tsteps\n",
    "    A=np.empty((len(grid),tsteps))"
   ]
  },
  {
   "cell_type": "code",
   "execution_count": null,
   "metadata": {},
   "outputs": [],
   "source": [
    "#Testing the transformations\n",
    "#define grid\n",
    "N=1000\n",
    "x=np.linspace(-50,50,N)\n",
    "#functions for testing\n",
    "PHI=np.exp(2*np.pi*1j*x)+0.2*np.exp(2*np.pi*1j*x/50)\n",
    "#PHI=gaussian(x,20,0.5)\n",
    "#PHI=np.zeros(len(x))+1\n",
    "step=np.zeros(len(x))\n",
    "\n",
    "\n",
    "#transform numpy functions\n",
    "fF=np.fft.fft(PHI)\n",
    "fphi=np.fft.ifft(fF)\n",
    "\n",
    "#define array to sort elements in the way they are displayed \n",
    "\n",
    "#k=np.fft.fftfreq(N)\n",
    "#plot\n",
    "fig, ax =plt.subplots(2,2,figsize=(10,10))\n",
    "\n",
    "ax[0][0].plot(x,PHI)\n",
    "ax[0][0].set_title('PHI')\n",
    "\n",
    "ax[0][1].plot(np.real(fF))\n",
    "ax[0][1].set_title('numpy trafo')\n",
    "\n",
    "ax[0][1].plot(np.imag(fF))\n",
    "ax[0][1].set_title('numpy trafo')\n",
    "\n",
    "ax[1][1].plot(x,fphi)\n",
    "ax[1][1].set_title('numpy rücktransformation')\n"
   ]
  }
 ],
 "metadata": {
  "kernelspec": {
   "display_name": "Python 3",
   "language": "python",
   "name": "python3"
  },
  "language_info": {
   "codemirror_mode": {
    "name": "ipython",
    "version": 3
   },
   "file_extension": ".py",
   "mimetype": "text/x-python",
   "name": "python",
   "nbconvert_exporter": "python",
   "pygments_lexer": "ipython3",
   "version": "3.8.1-final"
  }
 },
 "nbformat": 4,
 "nbformat_minor": 2
}