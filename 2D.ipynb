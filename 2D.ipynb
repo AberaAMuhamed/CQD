{
 "cells": [
  {
   "cell_type": "code",
   "execution_count": null,
   "metadata": {},
   "outputs": [],
   "source": [
    "import scipy.linalg as LA\n",
    "from matplotlib import animation\n",
    "from IPython.display import HTML\n",
    "import numpy as np\n",
    "import matplotlib.pyplot as plt\n",
    "\n",
    "%matplotlib inline"
   ]
  },
  {
   "cell_type": "code",
   "execution_count": null,
   "metadata": {},
   "outputs": [],
   "source": [
    "def H1diag(t):\n",
    "    k = 2*np.pi*np.fft.fftfreq(npoints,d=dx)\n",
    "    Es = k*k/2\n",
    "    return Es\n",
    "\n",
    "def H2diag(t,psi):\n",
    "    return g/2*np.conjugate(psi)*psi"
   ]
  },
  {
   "cell_type": "code",
   "execution_count": null,
   "metadata": {},
   "outputs": [],
   "source": [
    "def TimeStap(psi,t):\n",
    "    psi  = np.exp(-1j*(dt/2)*H2diag(t,psi))*psi\n",
    "    t   += dt/2\n",
    "    psi_ = np.fft.fft(psi)\n",
    "    psi_ = np.exp(-1j*dt*H1diag(t))*psi_\n",
    "    t   += dt/2\n",
    "    psi  = np.fft.ifft(psi_)\n",
    "    psi  = np.exp(-1j*(dt/2)*H2diag(t,psi))*psi\n",
    "    return psi"
   ]
  },
  {
   "cell_type": "code",
   "execution_count": null,
   "metadata": {},
   "outputs": [],
   "source": [
    "def make_grid(npoints,L):\n",
    "    dx=L/npoints\n",
    "    return np.arange(-L/2,L/2,dx,complex)\n",
    "\n",
    "def grey_soliton(grid,nu=0.5,z0=0):\n",
    "    gamma=1/np.sqrt(1-nu**2)\n",
    "    return 1j*nu+1/gamma*np.tanh((grid-z0)/(np.sqrt(2/g)*gamma))\n",
    "\n",
    "def dark_soliton(grid,z0=0):\n",
    "    return grey_soliton(grid,nu=0,z0=z0)"
   ]
  },
  {
   "cell_type": "code",
   "execution_count": null,
   "metadata": {},
   "outputs": [],
   "source": [
    "g=0.01\n",
    "eps = 1/np.sqrt(g)\n",
    "L = 40*eps\n",
    "npoints = 200\n",
    "dx=L/npoints\n",
    "dt = 10\n",
    "tsteps = 500\n",
    "grid  = make_grid(npoints,L)\n",
    "psi0  = grey_soliton(grid, 0.5,-10*eps)\n",
    "psi0 *= grey_soliton(grid,-0.5, 10*eps)"
   ]
  },
  {
   "cell_type": "code",
   "execution_count": null,
   "metadata": {},
   "outputs": [],
   "source": [
    "def animateTimeEvolution(xrange=[-L/2/eps,L/2/eps],yrange=[0,1.1]):\n",
    "    fig, ax = plt.subplots()\n",
    "    # add more axis specifications here, e.g. axis limits\n",
    "    line, = ax.plot(xrange,yrange)\n",
    "    global psi_t\n",
    "    psi_t = psi0\n",
    "\n",
    "    def animate(t):\n",
    "        # assign current wave function to y at time t, x is the vector of grid points (to be defined!)\n",
    "        #y = TimeEvolution(psi0, t)\n",
    "        global psi_t\n",
    "        y = psi_t\n",
    "        psi_t = TimeStap(psi_t,t)\n",
    "        line.set_data((grid).real/eps, (np.conjugate(y)*y).real)\n",
    "        plt.close()\n",
    "        return (line,)\n",
    "\n",
    "    anim = animation.FuncAnimation(fig, animate,\n",
    "                                   frames=np.arange(0,tsteps*dt,dt), # t-values\n",
    "                                   interval=50, # wait time before displaying new frame in ms\n",
    "                                   blit=True)\n",
    "\n",
    "    return anim.to_jshtml()"
   ]
  },
  {
   "cell_type": "code",
   "execution_count": null,
   "metadata": {},
   "outputs": [],
   "source": [
    "HTML(animateTimeEvolution())"
   ]
  },
  {
   "cell_type": "code",
   "execution_count": null,
   "metadata": {},
   "outputs": [],
   "source": [
    "plt.plot(np.real(grid)/eps, np.real(psi0))\n",
    "plt.plot(np.real(grid)/eps, np.imag(psi0))"
   ]
  }
 ],
 "metadata": {
  "kernelspec": {
   "display_name": "Python 3",
   "language": "python",
   "name": "python3"
  },
  "language_info": {
   "codemirror_mode": {
    "name": "ipython",
    "version": 3
   },
   "file_extension": ".py",
   "mimetype": "text/x-python",
   "name": "python",
   "nbconvert_exporter": "python",
   "pygments_lexer": "ipython3",
   "version": "3.8.1"
  }
 },
 "nbformat": 4,
 "nbformat_minor": 4
}
